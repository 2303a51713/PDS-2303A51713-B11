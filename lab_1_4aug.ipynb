{
  "nbformat": 4,
  "nbformat_minor": 0,
  "metadata": {
    "colab": {
      "provenance": [],
      "include_colab_link": true
    },
    "kernelspec": {
      "name": "python3",
      "display_name": "Python 3"
    },
    "language_info": {
      "name": "python"
    }
  },
  "cells": [
    {
      "cell_type": "markdown",
      "metadata": {
        "id": "view-in-github",
        "colab_type": "text"
      },
      "source": [
        "<a href=\"https://colab.research.google.com/github/2303a51713/PDS-2303A51713-B11/blob/main/lab_1_4aug.ipynb\" target=\"_parent\"><img src=\"https://colab.research.google.com/assets/colab-badge.svg\" alt=\"Open In Colab\"/></a>"
      ]
    },
    {
      "cell_type": "code",
      "execution_count": null,
      "metadata": {
        "id": "GHpBa_Nq3dgH"
      },
      "outputs": [],
      "source": [
        "#Question-1\n"
      ]
    },
    {
      "cell_type": "code",
      "execution_count": null,
      "metadata": {
        "colab": {
          "base_uri": "https://localhost:8080/"
        },
        "id": "ehlp_ltbxIUz",
        "outputId": "bdb917ac-6043-480b-9d96-c34d9dd5afdd"
      },
      "outputs": [
        {
          "output_type": "stream",
          "name": "stdout",
          "text": [
            "Enter total number of people (n): 5\n",
            "Enter total number of places (r): 3\n",
            "5P3 = 120 / 2 = 60\n"
          ]
        }
      ],
      "source": [
        "def factorial(n):\n",
        "    if n == 0 or n == 1:\n",
        "        return 1\n",
        "    return n * factorial(n - 1)\n",
        "\n",
        "def permutations(n, r):\n",
        "    return factorial(n) // factorial(n - r)\n",
        "\n",
        "n = int(input(\"Enter total number of people (n): \"))\n",
        "r = int(input(\"Enter total number of places (r): \"))\n",
        "\n",
        "if n >= r:\n",
        "    print(f\"{n}P{r} = {factorial(n)} / {factorial(n-r)} = {permutations(n,r)}\")\n",
        "else:\n",
        "    print(\"Invalid input: n must be greater than or equal to r\")\n"
      ]
    },
    {
      "cell_type": "code",
      "source": [
        "import sys\n",
        "\n",
        "def recursive_factorial(n):\n",
        "    if n == 0 or n == 1:\n",
        "        return 1\n",
        "    return n * recursive_factorial(n - 1)\n",
        "\n",
        "def iterative_factorial(n):\n",
        "    result = 1\n",
        "    for i in range(2, n + 1):\n",
        "        result *= i\n",
        "    return result\n",
        "\n",
        "n = int(input(\"Enter n for factorial: \"))\n",
        "\n",
        "if n > 998:\n",
        "    print(\"Warning: Recursion may fail for n > 998 due to Python recursion limit\")\n",
        "\n",
        "print(\"Maximum recursion depth allowed:\", sys.getrecursionlimit())\n",
        "\n",
        "try:\n",
        "    rec_result = recursive_factorial(n)\n",
        "    print(f\"Recursive Factorial of {n} = {rec_result}\")\n",
        "except RecursionError:\n",
        "    print(\"Error: Maximum recursion depth exceeded using recursion\")\n",
        "\n",
        "iter_result = iterative_factorial(n)\n",
        "print(f\"Iterative Factorial of {n} = {iter_result}\")"
      ],
      "metadata": {
        "colab": {
          "base_uri": "https://localhost:8080/"
        },
        "id": "7E6JEazP3rq9",
        "outputId": "19f373d4-900c-45e3-d016-6b3710c4d9b2"
      },
      "execution_count": null,
      "outputs": [
        {
          "output_type": "stream",
          "name": "stdout",
          "text": [
            "Enter n for factorial: 6\n",
            "Maximum recursion depth allowed: 1000\n",
            "Recursive Factorial of 6 = 720\n",
            "Iterative Factorial of 6 = 720\n"
          ]
        }
      ]
    }
  ]
}